{
 "cells": [
  {
   "cell_type": "markdown",
   "metadata": {
    "id": "x0tN4ui6MY7k"
   },
   "source": [
    "**Directions**\n",
    "1. This basically is a partially populated ipynb with blanks/empty code cells left deliberately to be filled out by you. Not just filling some stuff out is enough. Make sure it produces intended output.\n",
    "\n",
    "2. You will come across code cells with a certain number of such blanks or commented cells without any code and each of which will carry two marks. Thus total marks for this tutorial is 10.\n",
    "\n",
    "3. Avoid searching for the answers in the Internet or copying from your neighbor. \n",
    "\n",
    "4. Upon the completion, the pdf exported ipynb can be downloaded and should be given a name that complies with the format \"ROLLNO_NAME\". The named file should be uploaded to the outlook form for which the link is shared in the very last text cell.  "
   ]
  },
  {
   "cell_type": "code",
   "execution_count": 1,
   "metadata": {
    "id": "dXAjUQT6MSYO"
   },
   "outputs": [],
   "source": [
    "## Libraries\n",
    "import pandas as pd\n",
    "import numpy as np\n",
    "import matplotlib.pyplot as plt\n",
    "import seaborn as sns\n",
    "%matplotlib inline"
   ]
  },
  {
   "cell_type": "code",
   "execution_count": 2,
   "metadata": {
    "id": "aOb4eXINOS_t"
   },
   "outputs": [],
   "source": [
    "## Reading the dataset\n",
    "IceCream = pd.read_csv(\"IceCreamData.csv\")"
   ]
  },
  {
   "cell_type": "code",
   "execution_count": 3,
   "metadata": {
    "colab": {
     "base_uri": "https://localhost:8080/",
     "height": 112
    },
    "id": "ZkHETDFLO8EJ",
    "outputId": "20bfe9f9-bda0-4705-ecb9-ce3a19eae72f"
   },
   "outputs": [
    {
     "data": {
      "text/html": [
       "<div>\n",
       "<style scoped>\n",
       "    .dataframe tbody tr th:only-of-type {\n",
       "        vertical-align: middle;\n",
       "    }\n",
       "\n",
       "    .dataframe tbody tr th {\n",
       "        vertical-align: top;\n",
       "    }\n",
       "\n",
       "    .dataframe thead th {\n",
       "        text-align: right;\n",
       "    }\n",
       "</style>\n",
       "<table border=\"1\" class=\"dataframe\">\n",
       "  <thead>\n",
       "    <tr style=\"text-align: right;\">\n",
       "      <th></th>\n",
       "      <th>count</th>\n",
       "      <th>mean</th>\n",
       "      <th>std</th>\n",
       "      <th>min</th>\n",
       "      <th>25%</th>\n",
       "      <th>50%</th>\n",
       "      <th>75%</th>\n",
       "      <th>max</th>\n",
       "    </tr>\n",
       "  </thead>\n",
       "  <tbody>\n",
       "    <tr>\n",
       "      <th>Temperature</th>\n",
       "      <td>500.0</td>\n",
       "      <td>22.232225</td>\n",
       "      <td>8.096388</td>\n",
       "      <td>0.0</td>\n",
       "      <td>17.122258</td>\n",
       "      <td>22.392791</td>\n",
       "      <td>27.740674</td>\n",
       "      <td>45.0</td>\n",
       "    </tr>\n",
       "    <tr>\n",
       "      <th>Revenue</th>\n",
       "      <td>500.0</td>\n",
       "      <td>521.570777</td>\n",
       "      <td>175.404751</td>\n",
       "      <td>10.0</td>\n",
       "      <td>405.558681</td>\n",
       "      <td>529.368565</td>\n",
       "      <td>642.257922</td>\n",
       "      <td>1000.0</td>\n",
       "    </tr>\n",
       "  </tbody>\n",
       "</table>\n",
       "</div>"
      ],
      "text/plain": [
       "             count        mean         std   min         25%         50%  \\\n",
       "Temperature  500.0   22.232225    8.096388   0.0   17.122258   22.392791   \n",
       "Revenue      500.0  521.570777  175.404751  10.0  405.558681  529.368565   \n",
       "\n",
       "                    75%     max  \n",
       "Temperature   27.740674    45.0  \n",
       "Revenue      642.257922  1000.0  "
      ]
     },
     "execution_count": 3,
     "metadata": {},
     "output_type": "execute_result"
    }
   ],
   "source": [
    "## Describing the dataset\n",
    "IceCream.describe().T"
   ]
  },
  {
   "cell_type": "code",
   "execution_count": 4,
   "metadata": {
    "colab": {
     "base_uri": "https://localhost:8080/",
     "height": 206
    },
    "id": "aANB48zvPexN",
    "outputId": "f5c78c89-24c1-4a21-a806-cee4ef794777"
   },
   "outputs": [
    {
     "data": {
      "text/html": [
       "<div>\n",
       "<style scoped>\n",
       "    .dataframe tbody tr th:only-of-type {\n",
       "        vertical-align: middle;\n",
       "    }\n",
       "\n",
       "    .dataframe tbody tr th {\n",
       "        vertical-align: top;\n",
       "    }\n",
       "\n",
       "    .dataframe thead th {\n",
       "        text-align: right;\n",
       "    }\n",
       "</style>\n",
       "<table border=\"1\" class=\"dataframe\">\n",
       "  <thead>\n",
       "    <tr style=\"text-align: right;\">\n",
       "      <th></th>\n",
       "      <th>Temperature</th>\n",
       "      <th>Revenue</th>\n",
       "    </tr>\n",
       "  </thead>\n",
       "  <tbody>\n",
       "    <tr>\n",
       "      <th>463</th>\n",
       "      <td>11.595103</td>\n",
       "      <td>257.078777</td>\n",
       "    </tr>\n",
       "    <tr>\n",
       "      <th>409</th>\n",
       "      <td>32.649936</td>\n",
       "      <td>818.135393</td>\n",
       "    </tr>\n",
       "    <tr>\n",
       "      <th>346</th>\n",
       "      <td>35.094796</td>\n",
       "      <td>807.541287</td>\n",
       "    </tr>\n",
       "    <tr>\n",
       "      <th>383</th>\n",
       "      <td>9.900293</td>\n",
       "      <td>256.772593</td>\n",
       "    </tr>\n",
       "    <tr>\n",
       "      <th>366</th>\n",
       "      <td>25.717963</td>\n",
       "      <td>572.537048</td>\n",
       "    </tr>\n",
       "  </tbody>\n",
       "</table>\n",
       "</div>"
      ],
      "text/plain": [
       "     Temperature     Revenue\n",
       "463    11.595103  257.078777\n",
       "409    32.649936  818.135393\n",
       "346    35.094796  807.541287\n",
       "383     9.900293  256.772593\n",
       "366    25.717963  572.537048"
      ]
     },
     "execution_count": 4,
     "metadata": {},
     "output_type": "execute_result"
    }
   ],
   "source": [
    "## Viewing 5 sample instances from the dataset\n",
    "IceCream.sample(5)"
   ]
  },
  {
   "cell_type": "markdown",
   "metadata": {
    "id": "56TP9DxOPQJ2"
   },
   "source": [
    "**Question 1**: Draw scatter plots (using all three Pandas/Matplotlib/Seaborn) that show the relationship between the independent and dependent variable. Make sure to include axis labels wherever necessary.  "
   ]
  },
  {
   "cell_type": "code",
   "execution_count": 7,
   "metadata": {
    "id": "RLMYhlM4PPdO"
   },
   "outputs": [
    {
     "name": "stderr",
     "output_type": "stream",
     "text": [
      "/home/meghadharsan/anaconda3/lib/python3.9/site-packages/seaborn/_decorators.py:36: FutureWarning: Pass the following variables as keyword args: x, y. From version 0.12, the only valid positional argument will be `data`, and passing other arguments without an explicit keyword will result in an error or misinterpretation.\n",
      "  warnings.warn(\n"
     ]
    },
    {
     "data": {
      "text/plain": [
       "Text(0.5, 1.0, 'Matplotlib')"
      ]
     },
     "execution_count": 7,
     "metadata": {},
     "output_type": "execute_result"
    },
    {
     "data": {
      "image/png": "[encoded data removed]",
      "text/plain": [
       "<Figure size 640x480 with 3 Axes>"
      ]
     },
     "metadata": {},
     "output_type": "display_data"
    }
   ],
   "source": [
    "## The code should come here\n",
    "temp = IceCream['Temperature']\n",
    "rev = IceCream['Revenue']\n",
    "plt.subplot(6,1,1)\n",
    "#using seaborn\n",
    "plt.plot(temp,rev)\n",
    "plt.xlabel('Temperature')\n",
    "plt.ylabel('Revenue')\n",
    "plt.title(\"Pandas\")\n",
    "\n",
    "plt.subplot(6,1,3)\n",
    "#using seaborn\n",
    "sns.scatterplot(temp,rev)\n",
    "plt.title(\"Seaborn\")\n",
    "\n",
    "plt.subplot(6,1,6)\n",
    "#using matplotlib\n",
    "plt.scatter(temp,rev)\n",
    "plt.xlabel('Temperature')\n",
    "plt.ylabel('Revenue')\n",
    "plt.title(\"Matplotlib\")\n",
    "\n",
    "\n"
   ]
  },
  {
   "cell_type": "markdown",
   "metadata": {
    "id": "9c8v0U-djtt1"
   },
   "source": [
    "**Question 2:** Create training and test sets from the dataset with train-test split ratio 80:20 and random_state's value be 42. "
   ]
  },
  {
   "cell_type": "code",
   "execution_count": 8,
   "metadata": {
    "id": "tUUNUejKPGLQ"
   },
   "outputs": [],
   "source": [
    "## The code should come here\n",
    "from sklearn.model_selection import train_test_split\n",
    "X_test,x_train,y_test,y_train = train_test_split(temp,rev,random_state=42,test_size=0.2, train_size=0.8)\n",
    "x_train = x_train.values\n",
    "X_test = X_test.values\n",
    "\n",
    "\n",
    "x_train = x_train.reshape(-1,1)\n",
    "X_test = X_test.reshape(-1,1)"
   ]
  },
  {
   "cell_type": "markdown",
   "metadata": {
    "id": "yP3HgVcWkem6"
   },
   "source": [
    "**Question 3:** Fit a Linear Regression model (using Sklearn package) to the training data, test the fitted model, and report the model performance via MSE, MAE, and RMSE. "
   ]
  },
  {
   "cell_type": "code",
   "execution_count": 9,
   "metadata": {
    "id": "3EhaBD44mNbV"
   },
   "outputs": [
    {
     "name": "stdout",
     "output_type": "stream",
     "text": [
      "Linear Model Coefficient (m):  [21.75044777]\n",
      "Linear Model Coefficient (b):  35.40535297475054\n",
      "[ 430.15319301  225.85236136  509.04197247  436.48321038  379.99817579\n",
      "  758.29610737  619.61635293  127.55036312  671.42655094  458.08762565\n",
      "  656.3368622   806.34010442  575.22435633  448.19188141  415.06293419\n",
      "  546.48719753  573.23203358  686.16371778  672.95475111  443.77779834\n",
      "  574.87250412  499.17693465  364.23289878  465.07910394  473.74963675\n",
      "  621.45209094  633.90471755  262.63502361  383.24606467  947.28083639\n",
      "  366.69055822  724.20908098  237.88778824  655.11396698  833.70273106\n",
      "  830.79998025  490.74244356  554.84356057  960.13173915  245.32969633\n",
      "  466.4457085   556.89259934  437.97047903  304.06864611  719.91857395\n",
      "  437.92416732  389.03980931  598.00120186  548.21812339  603.57354369\n",
      "  347.57895655  599.28943085  376.37595627  599.51137547  299.08633607\n",
      "  475.72467703  483.36311238  426.76159957  150.84601434  389.99321822\n",
      "  588.28655207  650.9145269   638.35908571  799.28437227  661.66944515\n",
      "  459.42474617  376.0492143   706.05832774  713.14996293  653.91341078\n",
      "  416.40955552  650.32889457  621.88915727  275.94565405  420.17146185\n",
      "  482.52232837  472.67419021  619.94761334  464.49987211  505.25617023\n",
      "  621.00583048  702.41753812  604.58975702  573.98725306  789.66839186\n",
      "  462.20697036  564.12166974  289.76678381  522.34575892  747.00128211\n",
      "  360.17228942  671.630367    562.64430842  578.0728302   638.48870163\n",
      "  389.94036985  223.28737156  537.20157858  302.19382972  507.05132146\n",
      "  612.44949078  666.94567269  345.64374787  324.72537979  642.92468131\n",
      "  584.41162845  865.10517168  559.62629589  586.4185849   475.33905485\n",
      "  439.48776482  589.9683441   448.18515813  203.86879072  419.01662487\n",
      "  900.29295408  764.3616008   503.91998258  568.91888259  452.40591604\n",
      "  434.45688929  519.32538777  520.10430089  248.83184949  306.21655242\n",
      "  541.03185984  173.57418872  226.68537978  579.21830644  348.17020115\n",
      "  437.245626    348.26560993  409.27266353  333.55570336  661.54496581\n",
      "  798.73287074  776.26200137  392.24365505  569.34745037  621.4415435\n",
      "  417.65282525  668.97692547  454.72509495  284.56224336  479.35442133\n",
      "  419.48568524  355.99717982  725.71931571  594.94584882  748.92949954\n",
      "  522.57138806  568.76649961  508.52309792  588.34883012  861.89267339\n",
      "  482.66013312  675.53361318  255.51416126  454.13744157  511.68431866\n",
      "  610.83630422  700.15692012  605.08586363  476.17844096  454.48831348\n",
      "  682.87754333  625.48220879  456.56261106  708.90984994  650.13458129\n",
      "  514.12997468  556.63046251  588.36583745  498.29655569  404.17936269\n",
      "  192.51704071  840.10849502  696.7845965   517.09766559  449.95336926\n",
      "  568.14944615  606.37083028  692.88014208  320.60706062  737.88677024\n",
      "  471.50587448  372.99757363 1014.17550283  793.6411988   660.29386309\n",
      "  693.29654636  261.68445443  194.9545665   591.1553948   562.70390812\n",
      "  758.62729339  407.13452513  635.69740533  745.1846299   689.77169881\n",
      "  409.50065738  452.90413789  302.30437441  654.41315233  570.15986896\n",
      "  722.28425509  741.85542349  464.35314359  729.05905781  534.36752177\n",
      "  448.34358926  326.08514862   35.40535297  527.68273872  605.00542439\n",
      "  608.24803747  438.9118197   374.45266575  446.13469513  193.34293206\n",
      "  473.23208963  578.91683023  440.70130147  876.45607155  177.70797068\n",
      "  663.24483791  391.35023431  638.00279685  804.49597901  250.74116457\n",
      "  666.03211647  444.57094908  841.4234949   449.19915922  574.3526284\n",
      "  740.32088851  645.42720823  537.57237804  440.02350075  231.56960152\n",
      "  626.70890033  277.54668754  141.24028307  603.66280122  527.72097557\n",
      "  225.84257164  521.79761784  411.67078264  556.53111256  602.62234027\n",
      "  651.71218107  351.9007342   285.61157762  507.47604659  677.22179789\n",
      "  469.92421237  625.45429883  492.7389276   538.99351054  362.29526341\n",
      "  354.83122184  634.17847978  635.1295901   287.05028339  701.73700011\n",
      "  226.61251291  151.51821902  491.53731759  619.917887    363.90066722\n",
      "  670.19314243  451.1358602   239.93523641  492.31799075  518.03725948\n",
      "  590.03489264  447.631164    465.61547563  765.1637336   532.22843897\n",
      "  718.64409428  358.74976011   56.65271265  584.12072839  287.60402869\n",
      "  481.54265123  162.82935674  895.41607847  446.0615499   535.74153475\n",
      "  902.3650727   894.83416286  565.00926679  443.8098063   525.37224042\n",
      "  634.45533622  587.44122896  516.49710592  544.60206969  248.17651463\n",
      "  475.79419124  417.96031895  608.75848068  738.70190742  398.72160962\n",
      "  302.97098518  511.79495623  442.32308446  574.3422667   501.39907806\n",
      "  276.35340121  342.29679811  528.12120056  875.60040785  316.00061224\n",
      "  544.63875117  413.00904723  410.8655219   644.40097925  864.02365111\n",
      "  601.02990495  453.07854973  405.11704842  714.64983596  506.95282108\n",
      "  383.86874193  386.58425749  810.3504248   528.67419003  470.04167523\n",
      "  594.78255472  232.7653979   243.28038298  446.20957605  658.20186196\n",
      "  300.53065106  663.01868807  544.04271734  331.74452269  520.68130481\n",
      "  672.80307762  355.82912629  588.91596805  600.82985085  465.52369222\n",
      "  536.88832211  167.95034588  741.53300203  524.41628257  507.65118772\n",
      "  362.70442326  260.00894567  182.76912405  174.47411911  842.93575742\n",
      "  391.6684053   446.67344785  695.10364795  750.84483505  278.7440734\n",
      "  733.74871731  306.47982005  480.71519264  681.54642311  820.95673702\n",
      "  199.86320612  366.32905056  624.15968412  567.96307918  258.23994434\n",
      "  523.66014217  689.68251566  466.38261023  298.25084308  626.76777509\n",
      "  943.84736835  210.13002698  436.98184266  760.02146882  306.03857089\n",
      "  507.32009197  300.97143933  359.42117251  251.91707525  462.10292861\n",
      "  325.35199736  803.8749513   658.53810539  378.06083535  912.03034984\n",
      "  316.02469955  665.24908447  589.12469339  395.50234912  641.96250132\n",
      "  552.227224    571.08868095  865.95053719  381.60022264  346.15826211]\n",
      "MAE: 19.99567082820688\n",
      "MSE: 636.1925980968074\n",
      "RMSE: 25.222858642445892\n"
     ]
    }
   ],
   "source": [
    "## Fill in the blanks\n",
    "\n",
    "from sklearn.linear_model import LinearRegression\n",
    "\n",
    "# Model creation and fitting\n",
    "regressor = LinearRegression(fit_intercept =True)\n",
    "regressor.fit(x_train,y_train)\n",
    "\n",
    "# Printing the slope and intercept\n",
    "print('Linear Model Coefficient (m): ', regressor.coef_)\n",
    "print('Linear Model Coefficient (b): ', regressor.intercept_)\n",
    "\n",
    "# Making predictions\n",
    "y_predict = regressor.predict(X_test)\n",
    "print(y_predict)\n",
    "\n",
    "# Reporting the model performance\n",
    "from sklearn import metrics\n",
    "\n",
    "print('MAE:', metrics.mean_absolute_error(y_test, y_predict))\n",
    "print('MSE:', metrics.mean_squared_error(y_test, y_predict))\n",
    "print('RMSE:', np.sqrt(metrics.mean_squared_error(y_test, y_predict)))\n"
   ]
  },
  {
   "cell_type": "markdown",
   "metadata": {
    "id": "7J4QEts0oPIU"
   },
   "source": [
    "**Question 4:** Approximate the slope and intercept using Ordinary Least Square method."
   ]
  },
  {
   "cell_type": "code",
   "execution_count": 46,
   "metadata": {
    "id": "AXrypsTUocL4"
   },
   "outputs": [
    {
     "name": "stdout",
     "output_type": "stream",
     "text": [
      "21.443625510680285 44.83126709056256\n"
     ]
    }
   ],
   "source": [
    "## Fill in the blanks\n",
    "X = IceCream.iloc[:, 0]\n",
    "Y = IceCream.iloc[:, 1]\n",
    "\n",
    "X_mean = np.mean(X)\n",
    "Y_mean = np.mean(Y)\n",
    "\n",
    "num = 0\n",
    "den = 0\n",
    "for i in range(len(X)):\n",
    "    num += (X[i] - X_mean)*(Y[i] - Y_mean)\n",
    "    den += (X[i] - X_mean)**2\n",
    "m = num / den\n",
    "c = Y_mean - m*X_mean\n",
    "\n",
    "print (m, c)"
   ]
  },
  {
   "cell_type": "markdown",
   "metadata": {
    "id": "Y47U4uiKoz4B"
   },
   "source": [
    "**Question 5:** Approximate the slope and intercept using Gradient Descent Optimization method with the learning rate 0.0001 and 1000 as number of iterations."
   ]
  },
  {
   "cell_type": "code",
   "execution_count": 48,
   "metadata": {
    "id": "la04a1awo9GW"
   },
   "outputs": [
    {
     "name": "stdout",
     "output_type": "stream",
     "text": [
      "23.147944190016453 1.9343008391595768\n"
     ]
    }
   ],
   "source": [
    "m = 0\n",
    "c = 0\n",
    "\n",
    "L = 0.0001\n",
    "epochs = 1000\n",
    "\n",
    "n = float(len(X)) # Number of elements in X\n",
    "\n",
    "# Performing Gradient Descent \n",
    "for i in range(epochs): \n",
    "    Y_pred = m*X + c  # The current predicted value of Y\n",
    "    D_m = (-2/n)*sum(X*(Y - Y_pred))  # Derivative wrt m\n",
    "    D_c =  (-2/n)*sum((Y - Y_pred)) # Derivative wrt c\n",
    "    m = m - L*D_m  # Update m\n",
    "    c = c - L*D_c  # Update c\n",
    "print (m, c)"
   ]
  },
  {
   "cell_type": "markdown",
   "metadata": {
    "id": "jiN4cTqXs4pJ"
   },
   "source": [
    "***The link to the outlook form is here:***\n",
    "\n",
    "https://forms.office.com/r/h4hmCpDC42"
   ]
  }
 ],
 "metadata": {
  "colab": {
   "provenance": []
  },
  "kernelspec": {
   "display_name": "Python 3 (ipykernel)",
   "language": "python",
   "name": "python3"
  },
  "language_info": {
   "codemirror_mode": {
    "name": "ipython",
    "version": 3
   },
   "file_extension": ".py",
   "mimetype": "text/x-python",
   "name": "python",
   "nbconvert_exporter": "python",
   "pygments_lexer": "ipython3",
   "version": "3.9.13"
  }
 },
 "nbformat": 4,
 "nbformat_minor": 1
}
